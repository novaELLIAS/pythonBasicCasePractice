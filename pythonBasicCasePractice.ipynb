{
 "cells": [
  {
   "cell_type": "markdown",
   "metadata": {},
   "source": [
    "# pythonBasicCasePractice\n",
    "\n",
    "Assignment for python courses, BUPT 2021.\n",
    "\n",
    "- Temperature conversion\n",
    "- Calculation of compound interest (1%better)\n",
    "- Week days\n",
    "- Text progress bar\n",
    "- BMI calculation\n",
    "- Calculation of `Pi`\n",
    "- Fibonacci sequence (recursion)\n",
    "\n",
    "## Statistics\n",
    "\n",
    "![LICENSE](https://img.shields.io/github/license/novaELLIAS/pythonBasicCasePractice)\n",
    "![issues](https://img.shields.io/github/issues/novaELLIAS/pythonBasicCasePractice)\n",
    "![top language](https://img.shields.io/github/languages/top/novaELLIAS/pythonBasicCasePractice)\n",
    "![repo size](https://img.shields.io/github/repo-size/novaELLIAS/pythonBasicCasePractice?label=repo%20size)\n",
    "![repo size](https://img.shields.io/github/commit-activity/m/novaELLIAS/pythonBasicCasePractice)\n"
   ]
  },
  {
   "cell_type": "markdown",
   "metadata": {},
   "source": [
    "# 一：单位换算(第一个10行的代码)"
   ]
  },
  {
   "cell_type": "markdown",
   "metadata": {
    "collapsed": true
   },
   "source": [
    "单位换算\n",
    "\n",
    "$华氏度 = 32°F+ 摄氏度 × 1.8$\n",
    "\n",
    "$摄氏度 = (华氏度 - 32°F) ÷ 1.8$"
   ]
  },
  {
   "cell_type": "code",
   "execution_count": 10,
   "metadata": {},
   "outputs": [
    {
     "name": "stdout",
     "output_type": "stream",
     "text": [
      "温度为: 114.00℃, 237.20℉\n",
      "温度为: 514.00℃, 957.20℉\n",
      "温度为: 1919.00℃, 3486.20℉\n",
      "温度为: 432.22℃, 810.00℉\n",
      "温度为: 591.11℃, 1096.00℉\n",
      "温度为: 10700436.11℃, 19260817.00℉\n"
     ]
    }
   ],
   "source": [
    "def tempConverse (src: str):\n",
    "    tempC = 0\n",
    "    tempF = 0\n",
    "    flag = src[-1]\n",
    "    if flag==\"F\" or flag==\"f\" or flag==\"℉\":\n",
    "        tempF = int(src[0:len(src)-1])\n",
    "        tempC = (tempF - 32) / 1.8\n",
    "    elif flag==\"C\" or flag==\"c\" or flag==\"℃\":\n",
    "        tempC = int(src[0:len(src)-1])\n",
    "        tempF = 32 + tempC * 1.8\n",
    "    else:\n",
    "        pirnt(\"Invalid input.\")\n",
    "        return\n",
    "    \n",
    "    print(\"温度为: {:.2f}℃, {:.2f}℉\".format(tempC, tempF))\n",
    "    \n",
    "    \n",
    "tempConverse(\"114C\")\n",
    "tempConverse(\"514c\")\n",
    "tempConverse(\"1919℃\")\n",
    "\n",
    "tempConverse(\"810F\")\n",
    "tempConverse(\"1096f\")\n",
    "tempConverse(\"19260817℉\")"
   ]
  },
  {
   "cell_type": "markdown",
   "metadata": {},
   "source": [
    "# 二:复利的计算,感受天天进步的意义\n",
    "\n",
    "1957年至2018年到62年间，巴菲特的年化收益率是$19.91%$。\n",
    "从1953年到现在，诺贝尔基金的年平均复利速度超过20%\n",
    "\n",
    "> “Compound interest is the eighth wonder of the world. He who understands it, earns it ... he who doesn't ... pays it.” - Einstein"
   ]
  },
  {
   "cell_type": "markdown",
   "metadata": {},
   "source": [
    "## task1 0.5%和1%的利率"
   ]
  },
  {
   "cell_type": "code",
   "execution_count": 14,
   "metadata": {},
   "outputs": [
    {
     "name": "stdout",
     "output_type": "stream",
     "text": [
      "6.174652783430903\n",
      "37.78343433288732\n",
      "0.1604813142041613\n",
      "0.025517964452291046\n"
     ]
    }
   ],
   "source": [
    "#Q1: 0.5%和1%的利率\n",
    "\"\"\"\n",
    "一年365天，每天获利是0.5%或者1%，累计的增长是多少呢？\n",
    "power(1.005,365),   power(1.01,365),\n",
    "一年365天，每天下降是0.5%或者1%，累计剩下多少呢？\n",
    "power(0.995,365),   power(0.99,365),\n",
    "\n",
    "\"\"\"\n",
    "\n",
    "def qpow(base, expo):\n",
    "    ret = 1\n",
    "    while expo:\n",
    "        if expo & 1:\n",
    "            ret *= base\n",
    "        base *= base\n",
    "        expo = expo >> 1\n",
    "    return ret\n",
    "\n",
    "\n",
    "# 一年365天，每天获利是0.5%，累计的增长是多少呢？\n",
    "print(qpow(1.005, 365))\n",
    "# 一年365天，每天获利是1%，  累计的增长是多少呢？\n",
    "print(qpow(1.010, 365))\n",
    "\n",
    "# 一年365天，每天下降是0.5%，累计剩下多少呢？\n",
    "print(qpow(0.995, 365))\n",
    "# 一年365天，每天下降是1%，  累计剩下多少呢？\n",
    "print(qpow(0.990, 365))"
   ]
  },
  {
   "cell_type": "markdown",
   "metadata": {},
   "source": [
    "## task2 每天进步一点点,滚雪球\n",
    "\n",
    "注意: 本代码中因为一年实在是太长了, 所以一年的第一天是周几就不考虑了."
   ]
  },
  {
   "cell_type": "code",
   "execution_count": 20,
   "metadata": {},
   "outputs": [
    {
     "name": "stdout",
     "output_type": "stream",
     "text": [
      "0.45640927376104834\n",
      "1.2924160913186657\n",
      "4.7199651868963555\n"
     ]
    }
   ],
   "source": [
    "#Q2:每天进步一点点,滚雪球\n",
    "'''一年365天,一周五个工作日,每天获利0.1%,0.5%,1%\n",
    "一周2个休息日,利益损失1%,一年之后如何?'''\n",
    "\n",
    "LES = 365 %  7\n",
    "LON = 365 // 7\n",
    "\n",
    "# 0.1%\n",
    "print(qpow(qpow(1.001, 5)*0.99*0.99, LON)*qpow(1.001, min(5, LES))*qpow(0.99, max(0, LES-5)))\n",
    "# 0.5%\n",
    "print(qpow(qpow(1.005, 5)*0.99*0.99, LON)*qpow(1.005, min(5, LES))*qpow(0.99, max(0, LES-5)))\n",
    "# 1%\n",
    "print(qpow(qpow(1.010, 5)*0.99*0.99, LON)*qpow(1.010, min(5, LES))*qpow(0.99, max(0, LES-5)))"
   ]
  },
  {
   "cell_type": "markdown",
   "metadata": {},
   "source": [
    "## task3 工作日模式要努力到上面水平,才能与每天努力1%一样?"
   ]
  },
  {
   "cell_type": "code",
   "execution_count": null,
   "metadata": {
    "scrolled": true
   },
   "outputs": [],
   "source": [
    "# Q3:\n",
    "\"\"\"\n",
    "工作日模式要努力到上面水平,才能与每天努力1%一样?转化为如下:\n",
    "A:一年365天,每天获利1%,不停歇\n",
    "B:一年365天,每周工作5天休息2天,休息日下降1%,要多努力才能赶上投资人A?\n",
    "\"\"\"\n",
    "\n",
    "\"\"\"\n",
    "如何求解,计算机的思维,是,B先找一个初始值x,不断的试,\n",
    "每次增加一点点,直到赶上A之后则输出那个工作日获利值.\n",
    "\"\"\"\n"
   ]
  },
  {
   "cell_type": "markdown",
   "metadata": {},
   "source": [
    "### solution1 直接求解"
   ]
  },
  {
   "cell_type": "code",
   "execution_count": 23,
   "metadata": {},
   "outputs": [
    {
     "name": "stdout",
     "output_type": "stream",
     "text": [
      "1.018112677872285\n"
     ]
    }
   ],
   "source": [
    "print(pow(qpow(1.01, 7)/0.99/0.99, 1/5))"
   ]
  },
  {
   "cell_type": "markdown",
   "metadata": {},
   "source": [
    "### solution2 二分答案"
   ]
  },
  {
   "cell_type": "code",
   "execution_count": 24,
   "metadata": {},
   "outputs": [
    {
     "name": "stdout",
     "output_type": "stream",
     "text": [
      "1.010007553100586\n"
     ]
    }
   ],
   "source": [
    "EXP = 1e-5\n",
    "AIM = qpow(1.01, 7)\n",
    "l = 1.01\n",
    "r = 2.00\n",
    "\n",
    "while r-l >= EXP:\n",
    "    mid = (l + r) / 2\n",
    "    if (qpow(mid, 5)*0.99*0.99) <= AIM:\n",
    "        l = mid\n",
    "    else:\n",
    "        r = mid\n",
    "print(mid)"
   ]
  },
  {
   "cell_type": "markdown",
   "metadata": {},
   "source": [
    "\n",
    "三：# 获取星期几的字符串，例如，输入3，输出星期三"
   ]
  },
  {
   "cell_type": "code",
   "execution_count": 1,
   "metadata": {
    "scrolled": true
   },
   "outputs": [
    {
     "name": "stdout",
     "output_type": "stream",
     "text": [
      "请输入星期数字（1-7）：6\n",
      "星期六\n"
     ]
    }
   ],
   "source": [
    "\n",
    "weekStr = \"星期一星期二星期三星期四星期五星期六星期日\"\n",
    "''' '''\n"
   ]
  },
  {
   "cell_type": "markdown",
   "metadata": {},
   "source": [
    "四:文本进度条（string）\n",
    "核心要点：用程序去操作字符（string）\n",
    "用字符串的动态变化，记录时间流逝的进度和过程。\n",
    "用于检测程序执行的效率，下载、安装等进度等。\n",
    "计算机程序设计中的人机交互最重要的设计。\n",
    "文本进度条需求分析：\n",
    "1、采用字符串的方式打印可以动态变化的文本进度条\n",
    "2、进度条需要能在一行中逐渐变化\n",
    "\n",
    "数字类型及其操作\n",
    "字符串类型和操作\n",
    "时间库与时间控制（time）"
   ]
  },
  {
   "cell_type": "code",
   "execution_count": 6,
   "metadata": {},
   "outputs": [
    {
     "name": "stdout",
     "output_type": "stream",
     "text": [
      "100%"
     ]
    }
   ],
   "source": [
    "import time\n",
    "for i in range(101):\n",
    "    print(\"\\r{:3}%\".format(i),end=\"\")\n",
    "    time.sleep(0.1)"
   ]
  },
  {
   "cell_type": "code",
   "execution_count": 7,
   "metadata": {},
   "outputs": [
    {
     "name": "stdout",
     "output_type": "stream",
     "text": [
      "------——执行开始—————\n",
      " 0 %[->..........]\n",
      "10 %[*->.........]\n",
      "20 %[**->........]\n",
      "30 %[***->.......]\n",
      "40 %[****->......]\n",
      "50 %[*****->.....]\n",
      "60 %[******->....]\n",
      "70 %[*******->...]\n",
      "80 %[********->..]\n",
      "90 %[*********->.]\n",
      "100%[**********->]\n",
      "------——执行结束—————\n"
     ]
    }
   ],
   "source": [
    "import time\n",
    "scale = 10  #设定进度条的宽度\n",
    "print(\"------——执行开始—————\")\n",
    "for i in range(scale+1):\n",
    "    '''\n",
    "    完善代码，输出下面结果\n",
    "    '''\n",
    "    a =    #*被复制的次数，循环到多少，就复制多少*,这里表示已经执行了多少\n",
    "    b =    # 还剩下多少？用 . 来表示。\n",
    "    c =    # 以% 方式显示前面完成了率\n",
    "    print(\"{:^3.0f}%[{}->{}]\".format(c,a,b))\n",
    "    time.sleep(0.1)\n",
    "print(\"------——执行结束—————\")"
   ]
  },
  {
   "cell_type": "markdown",
   "metadata": {},
   "source": [
    " 五：利用分支结构计算BMI"
   ]
  },
  {
   "cell_type": "code",
   "execution_count": 9,
   "metadata": {
    "scrolled": true
   },
   "outputs": [
    {
     "name": "stdout",
     "output_type": "stream",
     "text": [
      "请输入身高（米）和体重（公斤）[逗号隔开]:1.84,90\n",
      "BMI 数值为：26.58\n",
      "BMI指标为:国际'偏胖',国内'偏胖'\n"
     ]
    }
   ],
   "source": [
    "#CalBMI\n",
    "height,weight = eval(input(\"请输入身高（米）和体重（公斤）[逗号隔开]:\"))\n",
    "bmi = weight / pow(height,2)\n",
    "print(\"BMI 数值为：{:.2f}\".format(bmi))\n",
    "who,nat = \"\",\"\"\n",
    "'''\n",
    "完善程序，输出结果\n",
    "\n",
    "'''\n",
    "print(\"BMI指标为:国际'{0}',国内'{1}'\".format(who,nat))"
   ]
  },
  {
   "cell_type": "markdown",
   "metadata": {},
   "source": [
    "# 六 计算圆周率"
   ]
  },
  {
   "cell_type": "markdown",
   "metadata": {},
   "source": [
    "祖冲之如何计算圆周率？——圆周率的计算问题\n",
    "\n",
    "1、圆周率的近似计算公式\n",
    "\n",
    "拉马努金公式，黑洞数学开创者，提出过3K多个公式从不证明。\n",
    "pi = 0N = 100for k in range(N) :pi += 1/pow(16,k)*( \\ 4/(8*k+1) – 2/(8*k+4) - \\ 1/(8*k+5) – 1/(8*k+6))print(\"圆周率值是: {}\".format(pi))\n",
    "\n",
    "\n",
    "2、2. 蒙特卡罗方法\n",
    "\n",
    "蒙特卡罗方法具体内容可以参考:https://baike.baidu.com/item/%E8%92%99%E7%89%B9%C2%B7%E5%8D%A1%E7%BD%97%E6%96%B9%E6%B3%95/8664362?fromtitle=%E8%92%99%E7%89%B9%E5%8D%A1%E7%BD%97%E6%96%B9%E6%B3%95&fromid=214674&fr=aladdin\n",
    "\n",
    "其大致原理如下图所示：\n",
    "<img src=\"./jupyter_logo.png\", width=320, heigth=240>\n",
    "\n",
    "将一个圆放在其外接正方形中，取其1/4，在1/4圆和矩形中随机撒点，根据点落在各个部分的数量确定圆与正方形面积比，根据面积计算圆周率。\n",
    "\n",
    "\n",
    "\n",
    "from random import randomfrom time import perf_counterDARTS = 1000*1000hits = 0.0start = perf_counter()for i in range(1, DARTS+1):x, y = random(), random() dist = pow(x ** 2 + y ** 2, 0.5) if dist <= 1.0: hits = hits + 1pi = 4 * (hits/DARTS)print(\"圆周率值是: {}\".format(pi))print(\"运行时间是: {:.5f}s\".format(perf_counter()-start))\n",
    "\n"
   ]
  },
  {
   "cell_type": "code",
   "execution_count": 10,
   "metadata": {},
   "outputs": [
    {
     "name": "stdout",
     "output_type": "stream",
     "text": [
      "圆周率值是：3.141592653589793\n"
     ]
    }
   ],
   "source": [
    "#计算圆周率pi\n",
    "'''\n",
    "完善代码\n",
    "'''\n",
    "\n",
    "\n",
    "    \n",
    "print(\"圆周率值是：{}\".format(pi))\n",
    "    "
   ]
  },
  {
   "cell_type": "code",
   "execution_count": 11,
   "metadata": {},
   "outputs": [
    {
     "name": "stdout",
     "output_type": "stream",
     "text": [
      "圆周率的值是：3.142376\n",
      "运行时间是：1.30142s\n"
     ]
    }
   ],
   "source": [
    "# 计算圆周率，利用蒙特卡洛方法\n",
    "\n",
    "'''\n",
    "完善代码\n",
    "\n",
    "'''\n",
    "print(\"运行时间是：{:.5f}s\".format(perf_counter()-start))\n",
    "        \n",
    "        "
   ]
  },
  {
   "cell_type": "markdown",
   "metadata": {},
   "source": [
    "理解思维方法\n",
    "一、数学思维：找到公式，利用公式求解，计算\n",
    "二、计算思维：抽象一个计算过程，用条件、循环、分支，实现计算机的自动化求解和无限逼近\n",
    "\n",
    "=谁会更准确？从工程的角度看，都是在限定条件下的如何逼近的艺术。\n"
   ]
  },
  {
   "cell_type": "markdown",
   "metadata": {},
   "source": [
    "七、函数的递归\n",
    "\n",
    "斐波那契数列求解\n",
    "\n",
    "f（n）=1，2；  n=1，2\n",
    "    = f（n-1）+f（n-2）\n",
    "    "
   ]
  },
  {
   "cell_type": "code",
   "execution_count": null,
   "metadata": {},
   "outputs": [],
   "source": [
    "def f(n):\n",
    "    if n == 1 or n ==2:\n",
    "        return 1\n",
    "    else:\n",
    "        return f(n-1)+f(n-2)\n",
    "    \n",
    "print (\"结果是：\",f(100))"
   ]
  }
 ],
 "metadata": {
  "kernelspec": {
   "display_name": "Python 3",
   "language": "python",
   "name": "python3"
  },
  "language_info": {
   "codemirror_mode": {
    "name": "ipython",
    "version": 3
   },
   "file_extension": ".py",
   "mimetype": "text/x-python",
   "name": "python",
   "nbconvert_exporter": "python",
   "pygments_lexer": "ipython3",
   "version": "3.8.5"
  },
  "toc": {
   "base_numbering": 1,
   "nav_menu": {},
   "number_sections": true,
   "sideBar": true,
   "skip_h1_title": false,
   "title_cell": "Table of Contents",
   "title_sidebar": "Contents",
   "toc_cell": true,
   "toc_position": {},
   "toc_section_display": true,
   "toc_window_display": false
  }
 },
 "nbformat": 4,
 "nbformat_minor": 2
}
